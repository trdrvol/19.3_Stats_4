{
 "cells": [
  {
   "cell_type": "code",
   "execution_count": null,
   "metadata": {},
   "outputs": [],
   "source": [
    "\"\"\"\n",
    "19.3\n",
    "\n",
    "\n",
    "Calculate F Test for given 10, 20, 30, 40, 50 and 5,10,15, 20, 25.\n",
    "For 10, 20, 30, 40, 50:\n",
    "\"\"\""
   ]
  },
  {
   "cell_type": "code",
   "execution_count": null,
   "metadata": {},
   "outputs": [],
   "source": [
    "\"\"\"\n",
    "F Test is the ratio of variances of two set of values.\n",
    "\n",
    "We will calculate variance of both sets:\n",
    "\n",
    "Variance of 1st set:\n",
    "\n",
    "Set 1= 10, 20, 30, 40, 50\n",
    "N=5\n",
    "\n",
    "Mean= 10 + 20 + 30 + 40 + 50/5 = 30\n",
    "\n",
    "SD1=sqrt{[(10-30)square + (20-30)square + .. + (50 - 30)square]/(5-1)}\n",
    "=sqrt(250)\n",
    "=15.8114\n",
    "Variance = 250\n",
    "\n",
    "Set 2:  5,10,15, 20, 25\n",
    "Solving for the set we get value of Variance as 62.5\n",
    "\n",
    "\n",
    "F Test = Variance of Set 1 / Variance of Set 2\n",
    "= 250/62.5\n",
    "= 4\n",
    "\n",
    "\"\"\""
   ]
  }
 ],
 "metadata": {
  "kernelspec": {
   "display_name": "Python 3",
   "language": "python",
   "name": "python3"
  },
  "language_info": {
   "codemirror_mode": {
    "name": "ipython",
    "version": 3
   },
   "file_extension": ".py",
   "mimetype": "text/x-python",
   "name": "python",
   "nbconvert_exporter": "python",
   "pygments_lexer": "ipython3",
   "version": "3.5.6"
  }
 },
 "nbformat": 4,
 "nbformat_minor": 2
}
